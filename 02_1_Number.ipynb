{
  "cells": [
    {
      "cell_type": "markdown",
      "metadata": {
        "id": "view-in-github",
        "colab_type": "text"
      },
      "source": [
        "<a href=\"https://colab.research.google.com/github/gilddongddi/jump_to_python/blob/main/02_1_Number.ipynb\" target=\"_parent\"><img src=\"https://colab.research.google.com/assets/colab-badge.svg\" alt=\"Open In Colab\"/></a>"
      ]
    },
    {
      "cell_type": "code",
      "execution_count": 1,
      "metadata": {
        "id": "ioD7JSPdG-fy"
      },
      "outputs": [],
      "source": [
        "a=123"
      ]
    },
    {
      "cell_type": "code",
      "execution_count": 2,
      "metadata": {
        "id": "UjF2HaoLHKg5"
      },
      "outputs": [],
      "source": [
        "a = -178"
      ]
    },
    {
      "cell_type": "code",
      "execution_count": 3,
      "metadata": {
        "id": "u4SsDcTAHM-z"
      },
      "outputs": [],
      "source": [
        "a=0"
      ]
    },
    {
      "cell_type": "code",
      "execution_count": 4,
      "metadata": {
        "id": "3kZs2tURHN3R"
      },
      "outputs": [],
      "source": [
        "a = 4.24E10"
      ]
    },
    {
      "cell_type": "code",
      "execution_count": 5,
      "metadata": {
        "id": "ASNDqF4uHQIr"
      },
      "outputs": [],
      "source": [
        "a = 4.24e-10"
      ]
    },
    {
      "cell_type": "markdown",
      "metadata": {
        "id": "6fkXXr91H2ab"
      },
      "source": [
        "8진수와 16진수"
      ]
    },
    {
      "cell_type": "code",
      "execution_count": 6,
      "metadata": {
        "id": "VA9kiWrCHT85"
      },
      "outputs": [],
      "source": [
        "a = 0o177"
      ]
    },
    {
      "cell_type": "code",
      "execution_count": 7,
      "metadata": {
        "id": "R2l5PaKYIA0h"
      },
      "outputs": [],
      "source": [
        "a = 0x8ff"
      ]
    },
    {
      "cell_type": "code",
      "execution_count": 8,
      "metadata": {
        "id": "toaPWKWlIHRr"
      },
      "outputs": [],
      "source": [
        "b = 0xABC"
      ]
    },
    {
      "cell_type": "code",
      "execution_count": 8,
      "metadata": {
        "id": "UfWCFP4hIJE2"
      },
      "outputs": [],
      "source": [
        ""
      ]
    },
    {
      "cell_type": "markdown",
      "metadata": {
        "id": "5VqJ_cE1IMaw"
      },
      "source": [
        "숫자형을 활용하기 위한 연산자"
      ]
    },
    {
      "cell_type": "markdown",
      "metadata": {
        "id": "JGKYaKVcIPxk"
      },
      "source": [
        "사칙연산\n"
      ]
    },
    {
      "cell_type": "code",
      "execution_count": 9,
      "metadata": {
        "colab": {
          "base_uri": "https://localhost:8080/"
        },
        "id": "o2We9wgPIRfH",
        "outputId": "56abb2f4-54b2-428d-c4ce-30ca4cb80be0"
      },
      "outputs": [
        {
          "output_type": "execute_result",
          "data": {
            "text/plain": [
              "7"
            ]
          },
          "metadata": {},
          "execution_count": 9
        }
      ],
      "source": [
        "a = 3\n",
        "b = 4\n",
        "a+b"
      ]
    },
    {
      "cell_type": "code",
      "execution_count": 10,
      "metadata": {
        "colab": {
          "base_uri": "https://localhost:8080/"
        },
        "id": "gimZ7OY0IWNa",
        "outputId": "88d0395b-43f0-4d39-e0df-9f7aad2a090f"
      },
      "outputs": [
        {
          "output_type": "execute_result",
          "data": {
            "text/plain": [
              "12"
            ]
          },
          "metadata": {},
          "execution_count": 10
        }
      ],
      "source": [
        "a*b"
      ]
    },
    {
      "cell_type": "code",
      "execution_count": 11,
      "metadata": {
        "colab": {
          "base_uri": "https://localhost:8080/"
        },
        "id": "qIMYx5BnIZMQ",
        "outputId": "51abbcb1-e89f-473d-8455-e681c9b7e441"
      },
      "outputs": [
        {
          "output_type": "execute_result",
          "data": {
            "text/plain": [
              "0.75"
            ]
          },
          "metadata": {},
          "execution_count": 11
        }
      ],
      "source": [
        "a/b"
      ]
    },
    {
      "cell_type": "code",
      "execution_count": 11,
      "metadata": {
        "id": "G9ZcLshQIah3"
      },
      "outputs": [],
      "source": [
        ""
      ]
    },
    {
      "cell_type": "markdown",
      "metadata": {
        "id": "DvifC1DfIgF4"
      },
      "source": [
        "x의 y 제곱을 나타내는 ** 연산자"
      ]
    },
    {
      "cell_type": "code",
      "execution_count": 12,
      "metadata": {
        "colab": {
          "base_uri": "https://localhost:8080/"
        },
        "id": "cmf4ZYtvIjeO",
        "outputId": "1e876840-07aa-4a29-eca8-8da98ce68f27"
      },
      "outputs": [
        {
          "output_type": "execute_result",
          "data": {
            "text/plain": [
              "81"
            ]
          },
          "metadata": {},
          "execution_count": 12
        }
      ],
      "source": [
        "a =3\n",
        "b = 4\n",
        "a**b"
      ]
    },
    {
      "cell_type": "markdown",
      "metadata": {
        "id": "to2rWIhqItxD"
      },
      "source": [
        "나눗셈 후 나머지를 반환하는 % 연산자"
      ]
    },
    {
      "cell_type": "code",
      "execution_count": 13,
      "metadata": {
        "colab": {
          "base_uri": "https://localhost:8080/"
        },
        "id": "e3ptOwDyIoCY",
        "outputId": "bdec29f5-c442-40b7-c0f2-4007bf04f5c2"
      },
      "outputs": [
        {
          "output_type": "execute_result",
          "data": {
            "text/plain": [
              "1"
            ]
          },
          "metadata": {},
          "execution_count": 13
        }
      ],
      "source": [
        "7%3"
      ]
    },
    {
      "cell_type": "code",
      "execution_count": 14,
      "metadata": {
        "colab": {
          "base_uri": "https://localhost:8080/"
        },
        "id": "U_LzUZSjI09T",
        "outputId": "79089a86-8824-4d22-8693-a59d1e667593"
      },
      "outputs": [
        {
          "output_type": "execute_result",
          "data": {
            "text/plain": [
              "3"
            ]
          },
          "metadata": {},
          "execution_count": 14
        }
      ],
      "source": [
        "3%7"
      ]
    },
    {
      "cell_type": "markdown",
      "metadata": {
        "id": "8xV0hZkrI7Q_"
      },
      "source": [
        "나눗셈 후 몫을 반환하는 // 연산자"
      ]
    },
    {
      "cell_type": "code",
      "execution_count": 15,
      "metadata": {
        "colab": {
          "base_uri": "https://localhost:8080/"
        },
        "id": "q4XZieJ-I2Jf",
        "outputId": "c4666e54-29f4-4574-beb2-99249d6d3571"
      },
      "outputs": [
        {
          "output_type": "execute_result",
          "data": {
            "text/plain": [
              "1.75"
            ]
          },
          "metadata": {},
          "execution_count": 15
        }
      ],
      "source": [
        "7/4"
      ]
    },
    {
      "cell_type": "code",
      "execution_count": 16,
      "metadata": {
        "colab": {
          "base_uri": "https://localhost:8080/"
        },
        "id": "oDbpe4onJk3k",
        "outputId": "c778a3c2-f874-4ab7-d91a-080fe76d5ddd"
      },
      "outputs": [
        {
          "output_type": "execute_result",
          "data": {
            "text/plain": [
              "1"
            ]
          },
          "metadata": {},
          "execution_count": 16
        }
      ],
      "source": [
        "7//4"
      ]
    },
    {
      "cell_type": "code",
      "execution_count": 17,
      "metadata": {
        "colab": {
          "base_uri": "https://localhost:8080/"
        },
        "id": "s9WfVvEaJnw4",
        "outputId": "a287a0c9-97ef-4f0e-a24e-25b96ad6c3b6"
      },
      "outputs": [
        {
          "output_type": "execute_result",
          "data": {
            "text/plain": [
              "4.666666666666667"
            ]
          },
          "metadata": {},
          "execution_count": 17
        }
      ],
      "source": [
        "14/3"
      ]
    },
    {
      "cell_type": "code",
      "execution_count": 18,
      "metadata": {
        "colab": {
          "base_uri": "https://localhost:8080/"
        },
        "id": "I8xmXdVrJxMs",
        "outputId": "cabcd023-c833-4f86-8efc-7fd1357aef9a"
      },
      "outputs": [
        {
          "output_type": "execute_result",
          "data": {
            "text/plain": [
              "4"
            ]
          },
          "metadata": {},
          "execution_count": 18
        }
      ],
      "source": [
        "14//3"
      ]
    },
    {
      "cell_type": "markdown",
      "metadata": {
        "id": "xvlaBbk9J8h8"
      },
      "source": [
        "02-2 문자열 자료형"
      ]
    },
    {
      "cell_type": "code",
      "execution_count": 19,
      "metadata": {
        "colab": {
          "base_uri": "https://localhost:8080/",
          "height": 35
        },
        "id": "Yy7mEak1J5p8",
        "outputId": "b1f5717f-dc43-4475-b438-9b0b9197e4b6"
      },
      "outputs": [
        {
          "output_type": "execute_result",
          "data": {
            "text/plain": [
              "'Life is too short, You need Python'"
            ],
            "application/vnd.google.colaboratory.intrinsic+json": {
              "type": "string"
            }
          },
          "metadata": {},
          "execution_count": 19
        }
      ],
      "source": [
        "\"Life is too short, You need Python\""
      ]
    },
    {
      "cell_type": "code",
      "execution_count": 20,
      "metadata": {
        "colab": {
          "base_uri": "https://localhost:8080/",
          "height": 35
        },
        "id": "YHhaLwNTKEOc",
        "outputId": "97d74d3e-286a-4150-d7b6-0abfdd3404dc"
      },
      "outputs": [
        {
          "output_type": "execute_result",
          "data": {
            "text/plain": [
              "'123'"
            ],
            "application/vnd.google.colaboratory.intrinsic+json": {
              "type": "string"
            }
          },
          "metadata": {},
          "execution_count": 20
        }
      ],
      "source": [
        "\"a\"\n",
        "\"123\""
      ]
    },
    {
      "cell_type": "markdown",
      "metadata": {
        "id": "bsnGYRgkKLxw"
      },
      "source": [
        "문자열은 어떻게 만들고 사용할까?"
      ]
    },
    {
      "cell_type": "markdown",
      "metadata": {
        "id": "hyZtfOO8KUHq"
      },
      "source": [
        "1. 큰따옴표(\")로 양쪽 둘러싸기"
      ]
    },
    {
      "cell_type": "code",
      "execution_count": 21,
      "metadata": {
        "colab": {
          "base_uri": "https://localhost:8080/",
          "height": 35
        },
        "id": "DiGltbokKGf0",
        "outputId": "2bbfd377-ea75-4adf-cab9-1c708fc4a900"
      },
      "outputs": [
        {
          "output_type": "execute_result",
          "data": {
            "text/plain": [
              "'Hello World'"
            ],
            "application/vnd.google.colaboratory.intrinsic+json": {
              "type": "string"
            }
          },
          "metadata": {},
          "execution_count": 21
        }
      ],
      "source": [
        "\"Hello World\""
      ]
    },
    {
      "cell_type": "markdown",
      "metadata": {
        "id": "jm6VHoU_KZnD"
      },
      "source": [
        "2. 작은 따옴표(')로 양쪽 둘러싸기"
      ]
    },
    {
      "cell_type": "code",
      "execution_count": 22,
      "metadata": {
        "id": "OoCuz_GhKY_W",
        "outputId": "6ca1f493-9719-4216-9699-2a908f8e343b",
        "colab": {
          "base_uri": "https://localhost:8080/",
          "height": 35
        }
      },
      "outputs": [
        {
          "output_type": "execute_result",
          "data": {
            "text/plain": [
              "'Python is fun'"
            ],
            "application/vnd.google.colaboratory.intrinsic+json": {
              "type": "string"
            }
          },
          "metadata": {},
          "execution_count": 22
        }
      ],
      "source": [
        "'Python is fun'"
      ]
    },
    {
      "cell_type": "markdown",
      "metadata": {
        "id": "gLCCEu2wKf8B"
      },
      "source": [
        "3. 큰 따옴표 3개를 연속(\"\"\")으로 써서 양쪽 둘러싸기"
      ]
    },
    {
      "cell_type": "code",
      "execution_count": 23,
      "metadata": {
        "colab": {
          "base_uri": "https://localhost:8080/",
          "height": 35
        },
        "id": "8_-Z98VdKkuu",
        "outputId": "780a01ec-865b-4e96-9b55-cecc00e435ef"
      },
      "outputs": [
        {
          "output_type": "execute_result",
          "data": {
            "text/plain": [
              "'Life is too short, You need python'"
            ],
            "application/vnd.google.colaboratory.intrinsic+json": {
              "type": "string"
            }
          },
          "metadata": {},
          "execution_count": 23
        }
      ],
      "source": [
        "\"\"\"Life is too short, You need python\"\"\""
      ]
    },
    {
      "cell_type": "markdown",
      "metadata": {
        "id": "2EUxxcAmK7gY"
      },
      "source": [
        "4. 작은따옴표 3개를 연속(''')으로 서서 양쪽 둘러싸기"
      ]
    },
    {
      "cell_type": "code",
      "execution_count": 24,
      "metadata": {
        "colab": {
          "base_uri": "https://localhost:8080/",
          "height": 35
        },
        "id": "nIX5bbzNKwfG",
        "outputId": "0038a2ae-f5f9-4dce-8ec8-257b7b850f24"
      },
      "outputs": [
        {
          "output_type": "execute_result",
          "data": {
            "text/plain": [
              "'Life is too short, You need python'"
            ],
            "application/vnd.google.colaboratory.intrinsic+json": {
              "type": "string"
            }
          },
          "metadata": {},
          "execution_count": 24
        }
      ],
      "source": [
        "'''Life is too short, You need python'''"
      ]
    },
    {
      "cell_type": "code",
      "execution_count": 25,
      "metadata": {
        "id": "7NsXf1jpLDXh"
      },
      "outputs": [],
      "source": [
        "food = \"Python's favorite food is perl\""
      ]
    },
    {
      "cell_type": "code",
      "execution_count": 26,
      "metadata": {
        "id": "GYZki-AyLWLi"
      },
      "outputs": [],
      "source": [
        "say = '\"Python is very easy.\" he says.'"
      ]
    },
    {
      "cell_type": "code",
      "execution_count": 27,
      "metadata": {
        "colab": {
          "base_uri": "https://localhost:8080/",
          "height": 35
        },
        "id": "ktiSDJ5wLlOP",
        "outputId": "f5c4213b-0b3b-4d33-8d20-932bccbd25d1"
      },
      "outputs": [
        {
          "output_type": "execute_result",
          "data": {
            "text/plain": [
              "\"Python's favorite food is perl\""
            ],
            "application/vnd.google.colaboratory.intrinsic+json": {
              "type": "string"
            }
          },
          "metadata": {},
          "execution_count": 27
        }
      ],
      "source": [
        "food"
      ]
    },
    {
      "cell_type": "code",
      "execution_count": 28,
      "metadata": {
        "colab": {
          "base_uri": "https://localhost:8080/",
          "height": 35
        },
        "id": "QlBxkaDILm5R",
        "outputId": "2497742e-f805-4172-c4b9-195fb3060b3d"
      },
      "outputs": [
        {
          "output_type": "execute_result",
          "data": {
            "text/plain": [
              "'\"Python is very easy.\" he says.'"
            ],
            "application/vnd.google.colaboratory.intrinsic+json": {
              "type": "string"
            }
          },
          "metadata": {},
          "execution_count": 28
        }
      ],
      "source": [
        "say"
      ]
    },
    {
      "cell_type": "code",
      "execution_count": 29,
      "metadata": {
        "id": "U_oKj8GiLnnw"
      },
      "outputs": [],
      "source": [
        "food2 = 'Python\\'s favorite fodd is perl.'"
      ]
    },
    {
      "cell_type": "code",
      "execution_count": 30,
      "metadata": {
        "colab": {
          "base_uri": "https://localhost:8080/",
          "height": 35
        },
        "id": "yq97OQqvL3dS",
        "outputId": "ff36a9ab-54e5-4c72-8475-a1d3ff51cd99"
      },
      "outputs": [
        {
          "output_type": "execute_result",
          "data": {
            "text/plain": [
              "\"Python's favorite fodd is perl.\""
            ],
            "application/vnd.google.colaboratory.intrinsic+json": {
              "type": "string"
            }
          },
          "metadata": {},
          "execution_count": 30
        }
      ],
      "source": [
        "food2"
      ]
    },
    {
      "cell_type": "code",
      "execution_count": 31,
      "metadata": {
        "id": "bISsrTVoL4NU"
      },
      "outputs": [],
      "source": [
        "say2 = \"\\\"Python is very easy.\\\" he says.\""
      ]
    },
    {
      "cell_type": "code",
      "execution_count": 32,
      "metadata": {
        "colab": {
          "base_uri": "https://localhost:8080/",
          "height": 35
        },
        "id": "YesV0j5QMMdA",
        "outputId": "3f522d11-0819-4a34-e49f-4c8f30132845"
      },
      "outputs": [
        {
          "output_type": "execute_result",
          "data": {
            "text/plain": [
              "'\"Python is very easy.\" he says.'"
            ],
            "application/vnd.google.colaboratory.intrinsic+json": {
              "type": "string"
            }
          },
          "metadata": {},
          "execution_count": 32
        }
      ],
      "source": [
        "say2"
      ]
    },
    {
      "cell_type": "markdown",
      "metadata": {
        "id": "c_xgkoxzMULu"
      },
      "source": [
        "여러 줄인 문자열을 변수에 대입하고 싶을 때"
      ]
    },
    {
      "cell_type": "code",
      "execution_count": 33,
      "metadata": {
        "id": "E1wzrLcMMNa-"
      },
      "outputs": [],
      "source": [
        "multiline = \"Life is too short.\\n You need python\""
      ]
    },
    {
      "cell_type": "code",
      "execution_count": 34,
      "metadata": {
        "colab": {
          "base_uri": "https://localhost:8080/",
          "height": 35
        },
        "id": "ZCeNqxv-Me62",
        "outputId": "2fbbdcf3-0cb0-4e6f-96ae-73c72a418d15"
      },
      "outputs": [
        {
          "output_type": "execute_result",
          "data": {
            "text/plain": [
              "'Life is too short.\\n You need python'"
            ],
            "application/vnd.google.colaboratory.intrinsic+json": {
              "type": "string"
            }
          },
          "metadata": {},
          "execution_count": 34
        }
      ],
      "source": [
        "multiline"
      ]
    },
    {
      "cell_type": "code",
      "execution_count": 35,
      "metadata": {
        "colab": {
          "base_uri": "https://localhost:8080/"
        },
        "id": "lRQceDcvNSRY",
        "outputId": "a7b81f61-bf1b-45e4-db31-57f5c9e26a0f"
      },
      "outputs": [
        {
          "output_type": "stream",
          "name": "stdout",
          "text": [
            "Life is too short.\n",
            " You need python\n"
          ]
        }
      ],
      "source": [
        "print(multiline)"
      ]
    },
    {
      "cell_type": "code",
      "execution_count": 36,
      "metadata": {
        "id": "QhqnrS2SMflx"
      },
      "outputs": [],
      "source": [
        "multiline2 = '''\n",
        "Life is too short\n",
        "You need python\n",
        "'''"
      ]
    },
    {
      "cell_type": "code",
      "execution_count": 37,
      "metadata": {
        "colab": {
          "base_uri": "https://localhost:8080/"
        },
        "id": "qDOeHsv0M5oy",
        "outputId": "29857c68-adf7-43a6-e2ba-85d1b8f55241"
      },
      "outputs": [
        {
          "output_type": "stream",
          "name": "stdout",
          "text": [
            "\n",
            "Life is too short\n",
            "You need python\n",
            "\n"
          ]
        }
      ],
      "source": [
        "print(multiline2)"
      ]
    },
    {
      "cell_type": "code",
      "execution_count": 38,
      "metadata": {
        "id": "8lO4WuovM6yI"
      },
      "outputs": [],
      "source": [
        "multiline3 = \"\"\"\n",
        "Life is too short.\n",
        "You need python\n",
        "\"\"\""
      ]
    },
    {
      "cell_type": "code",
      "execution_count": 39,
      "metadata": {
        "colab": {
          "base_uri": "https://localhost:8080/"
        },
        "id": "SCtk4EDZNgCX",
        "outputId": "7ade4e6a-81af-4758-c22b-c925caa10466"
      },
      "outputs": [
        {
          "output_type": "stream",
          "name": "stdout",
          "text": [
            "\n",
            "Life is too short.\n",
            "You need python\n",
            "\n"
          ]
        }
      ],
      "source": [
        "print(multiline3)"
      ]
    },
    {
      "cell_type": "markdown",
      "metadata": {
        "id": "qHCFAYVaN2vR"
      },
      "source": [
        "문자열 연산하기"
      ]
    },
    {
      "cell_type": "markdown",
      "metadata": {
        "id": "ygDkWNlgN6QO"
      },
      "source": [
        "1. 문자열 더해서 연결하기(Concatenation)"
      ]
    },
    {
      "cell_type": "code",
      "execution_count": 40,
      "metadata": {
        "colab": {
          "base_uri": "https://localhost:8080/",
          "height": 35
        },
        "id": "0bkp0ljANhVt",
        "outputId": "51948723-103b-47df-e6ad-6af2c54b3fed"
      },
      "outputs": [
        {
          "output_type": "execute_result",
          "data": {
            "text/plain": [
              "'Python is fun!'"
            ],
            "application/vnd.google.colaboratory.intrinsic+json": {
              "type": "string"
            }
          },
          "metadata": {},
          "execution_count": 40
        }
      ],
      "source": [
        "head = \"Python\"\n",
        "tail = \" is fun!\"\n",
        "head + tail"
      ]
    },
    {
      "cell_type": "markdown",
      "metadata": {
        "id": "Ff7um_oWOFs0"
      },
      "source": [
        "2. 문자열 곱하기"
      ]
    },
    {
      "cell_type": "code",
      "execution_count": 41,
      "metadata": {
        "colab": {
          "base_uri": "https://localhost:8080/",
          "height": 35
        },
        "id": "t1zot42yODkP",
        "outputId": "f5566359-fa9c-452f-a474-9e22e4870fe1"
      },
      "outputs": [
        {
          "output_type": "execute_result",
          "data": {
            "text/plain": [
              "'pythonpython'"
            ],
            "application/vnd.google.colaboratory.intrinsic+json": {
              "type": "string"
            }
          },
          "metadata": {},
          "execution_count": 41
        }
      ],
      "source": [
        "a = \"python\"\n",
        "a*2"
      ]
    },
    {
      "cell_type": "markdown",
      "metadata": {
        "id": "1vHS3UTlOMm2"
      },
      "source": [
        "3. 문자열 곱하기 응용"
      ]
    },
    {
      "cell_type": "code",
      "execution_count": 42,
      "metadata": {
        "colab": {
          "base_uri": "https://localhost:8080/"
        },
        "id": "giTbtedaOK68",
        "outputId": "191051ba-01a7-4514-ea87-9992f10e8064"
      },
      "outputs": [
        {
          "output_type": "stream",
          "name": "stdout",
          "text": [
            "==================================================\n",
            "My Program\n",
            "==================================================\n"
          ]
        }
      ],
      "source": [
        "print(\"=\"*50)\n",
        "print(\"My Program\")\n",
        "print(\"=\"*50)"
      ]
    },
    {
      "cell_type": "code",
      "execution_count": 43,
      "metadata": {
        "id": "8KYzy2sYOfSZ"
      },
      "outputs": [],
      "source": [
        "a = \"Life is too short\""
      ]
    },
    {
      "cell_type": "code",
      "execution_count": 44,
      "metadata": {
        "colab": {
          "base_uri": "https://localhost:8080/"
        },
        "id": "aZtByK8KOn_y",
        "outputId": "25e37fb9-5b2c-499e-9280-04067d59e2d8"
      },
      "outputs": [
        {
          "output_type": "execute_result",
          "data": {
            "text/plain": [
              "17"
            ]
          },
          "metadata": {},
          "execution_count": 44
        }
      ],
      "source": [
        "len(a)"
      ]
    },
    {
      "cell_type": "markdown",
      "metadata": {
        "id": "8oBzcPXyOvz5"
      },
      "source": [
        "문자열 인덱싱과 슬라이싱"
      ]
    },
    {
      "cell_type": "code",
      "execution_count": 45,
      "metadata": {
        "id": "2McAbTY7Oo9b"
      },
      "outputs": [],
      "source": [
        "a = \"Life is too short, You need Python\""
      ]
    },
    {
      "cell_type": "code",
      "execution_count": 46,
      "metadata": {
        "colab": {
          "base_uri": "https://localhost:8080/",
          "height": 35
        },
        "id": "IJzKIi4tO3eq",
        "outputId": "025a0593-0fc5-49d5-cc43-26270c582449"
      },
      "outputs": [
        {
          "output_type": "execute_result",
          "data": {
            "text/plain": [
              "'e'"
            ],
            "application/vnd.google.colaboratory.intrinsic+json": {
              "type": "string"
            }
          },
          "metadata": {},
          "execution_count": 46
        }
      ],
      "source": [
        "a[3]"
      ]
    },
    {
      "cell_type": "code",
      "execution_count": 47,
      "metadata": {
        "colab": {
          "base_uri": "https://localhost:8080/",
          "height": 35
        },
        "id": "fd5ZqmYzO5Aw",
        "outputId": "ebeb2c35-67a0-40d6-8147-d2f8055d4c2f"
      },
      "outputs": [
        {
          "output_type": "execute_result",
          "data": {
            "text/plain": [
              "'e is '"
            ],
            "application/vnd.google.colaboratory.intrinsic+json": {
              "type": "string"
            }
          },
          "metadata": {},
          "execution_count": 47
        }
      ],
      "source": [
        "a[3:8]"
      ]
    },
    {
      "cell_type": "code",
      "execution_count": 48,
      "metadata": {
        "colab": {
          "base_uri": "https://localhost:8080/",
          "height": 35
        },
        "id": "chySv_nkO7lc",
        "outputId": "4b2af887-2eeb-4a31-ff73-a18bff472275"
      },
      "outputs": [
        {
          "output_type": "execute_result",
          "data": {
            "text/plain": [
              "'Life is to'"
            ],
            "application/vnd.google.colaboratory.intrinsic+json": {
              "type": "string"
            }
          },
          "metadata": {},
          "execution_count": 48
        }
      ],
      "source": [
        "a[:10]"
      ]
    },
    {
      "cell_type": "code",
      "execution_count": 49,
      "metadata": {
        "colab": {
          "base_uri": "https://localhost:8080/",
          "height": 35
        },
        "id": "uvpdrBlFO-64",
        "outputId": "e414f8d2-1b19-4055-c0b2-416fccc9b0fc"
      },
      "outputs": [
        {
          "output_type": "execute_result",
          "data": {
            "text/plain": [
              "'is too short, You need Python'"
            ],
            "application/vnd.google.colaboratory.intrinsic+json": {
              "type": "string"
            }
          },
          "metadata": {},
          "execution_count": 49
        }
      ],
      "source": [
        "a[5:]"
      ]
    },
    {
      "cell_type": "code",
      "execution_count": 50,
      "metadata": {
        "colab": {
          "base_uri": "https://localhost:8080/",
          "height": 35
        },
        "id": "bAAjtNLaPA_D",
        "outputId": "69f21649-0496-410a-e21c-556cccc933c5"
      },
      "outputs": [
        {
          "output_type": "execute_result",
          "data": {
            "text/plain": [
              "'n'"
            ],
            "application/vnd.google.colaboratory.intrinsic+json": {
              "type": "string"
            }
          },
          "metadata": {},
          "execution_count": 50
        }
      ],
      "source": [
        "a[-1]"
      ]
    },
    {
      "cell_type": "code",
      "execution_count": 51,
      "metadata": {
        "colab": {
          "base_uri": "https://localhost:8080/",
          "height": 133
        },
        "id": "eZnOzYlPPFhd",
        "outputId": "00fdc07f-7924-419d-870a-6b3ce2485f82"
      },
      "outputs": [
        {
          "output_type": "error",
          "ename": "SyntaxError",
          "evalue": "ignored",
          "traceback": [
            "\u001b[0;36m  File \u001b[0;32m\"<ipython-input-51-5f7b90637dbc>\"\u001b[0;36m, line \u001b[0;32m1\u001b[0m\n\u001b[0;31m    a[-:]\u001b[0m\n\u001b[0m       ^\u001b[0m\n\u001b[0;31mSyntaxError\u001b[0m\u001b[0;31m:\u001b[0m invalid syntax\n"
          ]
        }
      ],
      "source": [
        "a[-:]"
      ]
    },
    {
      "cell_type": "code",
      "execution_count": null,
      "metadata": {
        "id": "RH8OisADPOQR"
      },
      "outputs": [],
      "source": [
        "a[-5:8]"
      ]
    },
    {
      "cell_type": "code",
      "execution_count": null,
      "metadata": {
        "id": "flWBF0yePQl_"
      },
      "outputs": [],
      "source": [
        "a[-0]"
      ]
    },
    {
      "cell_type": "code",
      "execution_count": null,
      "metadata": {
        "id": "u_2H45vjPTj1"
      },
      "outputs": [],
      "source": [
        "a[0]"
      ]
    },
    {
      "cell_type": "code",
      "execution_count": null,
      "metadata": {
        "id": "FXTvV1G0PaYg"
      },
      "outputs": [],
      "source": [
        "a[-2]"
      ]
    },
    {
      "cell_type": "code",
      "execution_count": null,
      "metadata": {
        "id": "FG4cKJaVPbj6"
      },
      "outputs": [],
      "source": [
        "b = a[0] + a[1] + a[2] + a[3]"
      ]
    },
    {
      "cell_type": "code",
      "execution_count": null,
      "metadata": {
        "id": "wjvGsv-FPkMH"
      },
      "outputs": [],
      "source": [
        "b"
      ]
    },
    {
      "cell_type": "code",
      "execution_count": null,
      "metadata": {
        "id": "RtcWPIRPPlZ9"
      },
      "outputs": [],
      "source": [
        "b = a[:4]"
      ]
    },
    {
      "cell_type": "code",
      "execution_count": null,
      "metadata": {
        "id": "7ADFyRJKPpeJ"
      },
      "outputs": [],
      "source": [
        "b"
      ]
    },
    {
      "cell_type": "code",
      "execution_count": null,
      "metadata": {
        "id": "xifOcMOzPqLE"
      },
      "outputs": [],
      "source": [
        "a[0:5]"
      ]
    },
    {
      "cell_type": "code",
      "execution_count": null,
      "metadata": {
        "id": "PfR0ZKf7P0XK"
      },
      "outputs": [],
      "source": [
        "a[19:]"
      ]
    },
    {
      "cell_type": "code",
      "execution_count": null,
      "metadata": {
        "id": "Q-YNet9CP8HS"
      },
      "outputs": [],
      "source": [
        "a[10:-7]"
      ]
    },
    {
      "cell_type": "code",
      "execution_count": null,
      "metadata": {
        "id": "IOMdLDihQBPa"
      },
      "outputs": [],
      "source": [
        "a[19:-7]"
      ]
    },
    {
      "cell_type": "code",
      "execution_count": null,
      "metadata": {
        "id": "9W2_DlzsQHn2"
      },
      "outputs": [],
      "source": [
        "a[19:25]"
      ]
    },
    {
      "cell_type": "code",
      "execution_count": null,
      "metadata": {
        "id": "knT6oWoAQQhO"
      },
      "outputs": [],
      "source": [
        "a[19:27]"
      ]
    },
    {
      "cell_type": "code",
      "execution_count": null,
      "metadata": {
        "id": "MntzpE0AQTIb"
      },
      "outputs": [],
      "source": [
        "a = \"20010331Rainy\""
      ]
    },
    {
      "cell_type": "code",
      "execution_count": null,
      "metadata": {
        "id": "xx8q3K9dQd1k"
      },
      "outputs": [],
      "source": [
        "date = a[:8]"
      ]
    },
    {
      "cell_type": "code",
      "execution_count": null,
      "metadata": {
        "id": "xD7XfxH3Qg2Y"
      },
      "outputs": [],
      "source": [
        "date"
      ]
    },
    {
      "cell_type": "code",
      "execution_count": null,
      "metadata": {
        "id": "mES111CQQmFg"
      },
      "outputs": [],
      "source": [
        "weather = a[8:]"
      ]
    },
    {
      "cell_type": "code",
      "execution_count": null,
      "metadata": {
        "id": "QPDsDZogQpAR"
      },
      "outputs": [],
      "source": [
        "weather"
      ]
    },
    {
      "cell_type": "code",
      "execution_count": null,
      "metadata": {
        "id": "X4o8znuYQp78"
      },
      "outputs": [],
      "source": [
        "year = a[:4]"
      ]
    },
    {
      "cell_type": "code",
      "execution_count": null,
      "metadata": {
        "id": "XPS4m_zjQxbT"
      },
      "outputs": [],
      "source": [
        "year"
      ]
    },
    {
      "cell_type": "code",
      "execution_count": null,
      "metadata": {
        "id": "WkdyO6V5Qygu"
      },
      "outputs": [],
      "source": [
        "day = a[4:6]\n",
        "weather = a[8:]"
      ]
    },
    {
      "cell_type": "code",
      "execution_count": null,
      "metadata": {
        "id": "4pkgu-4cQ-Z6"
      },
      "outputs": [],
      "source": [
        "print(day, weather)"
      ]
    },
    {
      "cell_type": "code",
      "execution_count": null,
      "metadata": {
        "id": "ot5n3DD6RB-N"
      },
      "outputs": [],
      "source": [
        "day"
      ]
    },
    {
      "cell_type": "code",
      "execution_count": null,
      "metadata": {
        "id": "cxe801iLRHL3"
      },
      "outputs": [],
      "source": [
        "weather"
      ]
    },
    {
      "cell_type": "code",
      "execution_count": 52,
      "metadata": {
        "id": "XUEXPlLGRIIt"
      },
      "outputs": [],
      "source": [
        "a = \"Pithon\""
      ]
    },
    {
      "cell_type": "code",
      "execution_count": 53,
      "metadata": {
        "colab": {
          "base_uri": "https://localhost:8080/",
          "height": 35
        },
        "id": "DgTHaolLRMf1",
        "outputId": "d654dbac-e4a4-44d8-a302-217f587934c2"
      },
      "outputs": [
        {
          "output_type": "execute_result",
          "data": {
            "text/plain": [
              "'Pithon'"
            ],
            "application/vnd.google.colaboratory.intrinsic+json": {
              "type": "string"
            }
          },
          "metadata": {},
          "execution_count": 53
        }
      ],
      "source": [
        "a"
      ]
    },
    {
      "cell_type": "code",
      "execution_count": 54,
      "metadata": {
        "colab": {
          "base_uri": "https://localhost:8080/",
          "height": 167
        },
        "id": "8NZSjwDhRQCF",
        "outputId": "0ae7b893-38fb-4c1e-835b-74a5d774df48"
      },
      "outputs": [
        {
          "output_type": "error",
          "ename": "TypeError",
          "evalue": "ignored",
          "traceback": [
            "\u001b[0;31m---------------------------------------------------------------------------\u001b[0m",
            "\u001b[0;31mTypeError\u001b[0m                                 Traceback (most recent call last)",
            "\u001b[0;32m<ipython-input-54-6e016355dca5>\u001b[0m in \u001b[0;36m<module>\u001b[0;34m()\u001b[0m\n\u001b[0;32m----> 1\u001b[0;31m \u001b[0ma\u001b[0m\u001b[0;34m[\u001b[0m\u001b[0;36m1\u001b[0m\u001b[0;34m]\u001b[0m\u001b[0;34m=\u001b[0m\u001b[0;34m'y'\u001b[0m\u001b[0;34m\u001b[0m\u001b[0;34m\u001b[0m\u001b[0m\n\u001b[0m",
            "\u001b[0;31mTypeError\u001b[0m: 'str' object does not support item assignment"
          ]
        }
      ],
      "source": [
        "a[1]='y'"
      ]
    },
    {
      "cell_type": "code",
      "execution_count": 55,
      "metadata": {
        "colab": {
          "base_uri": "https://localhost:8080/",
          "height": 35
        },
        "id": "TgDbOYlyRcNT",
        "outputId": "09d9fbc7-5582-4f2d-be7b-105640bdd66a"
      },
      "outputs": [
        {
          "output_type": "execute_result",
          "data": {
            "text/plain": [
              "'i'"
            ],
            "application/vnd.google.colaboratory.intrinsic+json": {
              "type": "string"
            }
          },
          "metadata": {},
          "execution_count": 55
        }
      ],
      "source": [
        "a[1]"
      ]
    },
    {
      "cell_type": "code",
      "execution_count": 56,
      "metadata": {
        "colab": {
          "base_uri": "https://localhost:8080/",
          "height": 35
        },
        "id": "BYjdT8mERpT1",
        "outputId": "b9a548f4-29f8-4ead-c918-0943d9f601e9"
      },
      "outputs": [
        {
          "output_type": "execute_result",
          "data": {
            "text/plain": [
              "'P'"
            ],
            "application/vnd.google.colaboratory.intrinsic+json": {
              "type": "string"
            }
          },
          "metadata": {},
          "execution_count": 56
        }
      ],
      "source": [
        "a[:1]"
      ]
    },
    {
      "cell_type": "code",
      "source": [
        "a[2:]"
      ],
      "metadata": {
        "id": "43-ER-jCEkdM",
        "outputId": "0e991148-6cd8-41d9-8242-1646ce00e0f9",
        "colab": {
          "base_uri": "https://localhost:8080/",
          "height": 35
        }
      },
      "execution_count": 57,
      "outputs": [
        {
          "output_type": "execute_result",
          "data": {
            "text/plain": [
              "'thon'"
            ],
            "application/vnd.google.colaboratory.intrinsic+json": {
              "type": "string"
            }
          },
          "metadata": {},
          "execution_count": 57
        }
      ]
    },
    {
      "cell_type": "code",
      "source": [
        "a = a[:1] + 'y' + a[2:]"
      ],
      "metadata": {
        "id": "ONMcRIoVEn7h"
      },
      "execution_count": 59,
      "outputs": []
    },
    {
      "cell_type": "code",
      "source": [
        "a"
      ],
      "metadata": {
        "id": "uhqwW0qoEsSa",
        "outputId": "c86c4765-20bc-4256-c448-16e3e6728ef0",
        "colab": {
          "base_uri": "https://localhost:8080/",
          "height": 35
        }
      },
      "execution_count": 60,
      "outputs": [
        {
          "output_type": "execute_result",
          "data": {
            "text/plain": [
              "'Python'"
            ],
            "application/vnd.google.colaboratory.intrinsic+json": {
              "type": "string"
            }
          },
          "metadata": {},
          "execution_count": 60
        }
      ]
    },
    {
      "cell_type": "markdown",
      "source": [
        "문자열 포매팅"
      ],
      "metadata": {
        "id": "vUieImOcE3dH"
      }
    },
    {
      "cell_type": "code",
      "source": [
        "\"I eat %d apples.\" %3"
      ],
      "metadata": {
        "id": "w9O8f1ffEwEE",
        "outputId": "f358e2d7-2376-4e4d-aebc-1c37985dfd9b",
        "colab": {
          "base_uri": "https://localhost:8080/",
          "height": 35
        }
      },
      "execution_count": 61,
      "outputs": [
        {
          "output_type": "execute_result",
          "data": {
            "text/plain": [
              "'I eat 3 apples.'"
            ],
            "application/vnd.google.colaboratory.intrinsic+json": {
              "type": "string"
            }
          },
          "metadata": {},
          "execution_count": 61
        }
      ]
    },
    {
      "cell_type": "code",
      "source": [
        "\"I eat %s apples.\" %\"five\""
      ],
      "metadata": {
        "id": "IwfoaOcOE883",
        "outputId": "f23cf4de-95b2-40e0-92df-be46735d8316",
        "colab": {
          "base_uri": "https://localhost:8080/",
          "height": 35
        }
      },
      "execution_count": 62,
      "outputs": [
        {
          "output_type": "execute_result",
          "data": {
            "text/plain": [
              "'I eat five apples.'"
            ],
            "application/vnd.google.colaboratory.intrinsic+json": {
              "type": "string"
            }
          },
          "metadata": {},
          "execution_count": 62
        }
      ]
    },
    {
      "cell_type": "code",
      "source": [
        "number =3\n",
        "\"I eat %d apples.\" % number"
      ],
      "metadata": {
        "id": "yL9PhMl6Gezd",
        "outputId": "42a64b53-c30f-4e96-b04e-6a780ab48f91",
        "colab": {
          "base_uri": "https://localhost:8080/",
          "height": 35
        }
      },
      "execution_count": 64,
      "outputs": [
        {
          "output_type": "execute_result",
          "data": {
            "text/plain": [
              "'I eat 3 apples.'"
            ],
            "application/vnd.google.colaboratory.intrinsic+json": {
              "type": "string"
            }
          },
          "metadata": {},
          "execution_count": 64
        }
      ]
    },
    {
      "cell_type": "code",
      "source": [
        "number = 10\n",
        "day = \"three\"\n",
        "\"I ate %d apples. so I was sick for %s days.\" %(number, day)"
      ],
      "metadata": {
        "id": "qjX6lxqTGm6I",
        "outputId": "97dbc747-7428-4f6a-ca72-02c3e8699e54",
        "colab": {
          "base_uri": "https://localhost:8080/",
          "height": 35
        }
      },
      "execution_count": 66,
      "outputs": [
        {
          "output_type": "execute_result",
          "data": {
            "text/plain": [
              "'I ate 10 apples. so I was sick for three days.'"
            ],
            "application/vnd.google.colaboratory.intrinsic+json": {
              "type": "string"
            }
          },
          "metadata": {},
          "execution_count": 66
        }
      ]
    },
    {
      "cell_type": "code",
      "source": [
        "\"I ate %d apples. so I was sick for %s days.\" %(10, three)"
      ],
      "metadata": {
        "id": "Cwrf4KY_G186",
        "outputId": "ff130543-2cff-420d-8fb8-444c9c99f4e0",
        "colab": {
          "base_uri": "https://localhost:8080/",
          "height": 167
        }
      },
      "execution_count": 69,
      "outputs": [
        {
          "output_type": "error",
          "ename": "NameError",
          "evalue": "ignored",
          "traceback": [
            "\u001b[0;31m---------------------------------------------------------------------------\u001b[0m",
            "\u001b[0;31mNameError\u001b[0m                                 Traceback (most recent call last)",
            "\u001b[0;32m<ipython-input-69-829002656203>\u001b[0m in \u001b[0;36m<module>\u001b[0;34m()\u001b[0m\n\u001b[0;32m----> 1\u001b[0;31m \u001b[0;34m\"I ate %d apples. so I was sick for %s days.\"\u001b[0m \u001b[0;34m%\u001b[0m\u001b[0;34m(\u001b[0m\u001b[0;36m10\u001b[0m\u001b[0;34m,\u001b[0m \u001b[0mthree\u001b[0m\u001b[0;34m)\u001b[0m\u001b[0;34m\u001b[0m\u001b[0;34m\u001b[0m\u001b[0m\n\u001b[0m",
            "\u001b[0;31mNameError\u001b[0m: name 'three' is not defined"
          ]
        }
      ]
    },
    {
      "cell_type": "code",
      "source": [
        "\"I have %s apples\" % 3"
      ],
      "metadata": {
        "id": "BqPJ_r0RHCP4",
        "outputId": "a7475c33-5028-441e-fd94-27d60bf7dab0",
        "colab": {
          "base_uri": "https://localhost:8080/",
          "height": 35
        }
      },
      "execution_count": 70,
      "outputs": [
        {
          "output_type": "execute_result",
          "data": {
            "text/plain": [
              "'I have 3 apples'"
            ],
            "application/vnd.google.colaboratory.intrinsic+json": {
              "type": "string"
            }
          },
          "metadata": {},
          "execution_count": 70
        }
      ]
    },
    {
      "cell_type": "code",
      "source": [
        "\"rate is %s\" % 3.234"
      ],
      "metadata": {
        "id": "uV7kdcBfHQLN",
        "outputId": "56015ba6-386d-4fec-85bb-0bc42a75b1fe",
        "colab": {
          "base_uri": "https://localhost:8080/",
          "height": 35
        }
      },
      "execution_count": 71,
      "outputs": [
        {
          "output_type": "execute_result",
          "data": {
            "text/plain": [
              "'rate is 3.234'"
            ],
            "application/vnd.google.colaboratory.intrinsic+json": {
              "type": "string"
            }
          },
          "metadata": {},
          "execution_count": 71
        }
      ]
    },
    {
      "cell_type": "code",
      "source": [
        "//포매팅 연산자 %d와 %를 같이 쓸 때는 %%를 쓴다\n",
        "\"Error is %d%\" %98"
      ],
      "metadata": {
        "id": "yFhx24bqHSMy",
        "outputId": "8061a53d-c3fe-47d6-a19c-1db31f4d3cfb",
        "colab": {
          "base_uri": "https://localhost:8080/",
          "height": 133
        }
      },
      "execution_count": 72,
      "outputs": [
        {
          "output_type": "error",
          "ename": "SyntaxError",
          "evalue": "ignored",
          "traceback": [
            "\u001b[0;36m  File \u001b[0;32m\"<ipython-input-72-368b5426e9af>\"\u001b[0;36m, line \u001b[0;32m1\u001b[0m\n\u001b[0;31m    (/포매팅, 연산자, %d와, %를, 같이, 쓸, 때는, %%를, 쓴다)\u001b[0m\n\u001b[0m     ^\u001b[0m\n\u001b[0;31mSyntaxError\u001b[0m\u001b[0;31m:\u001b[0m invalid syntax\n"
          ]
        }
      ]
    },
    {
      "cell_type": "code",
      "source": [
        "\"Error is %d%%\" %98"
      ],
      "metadata": {
        "id": "KaVtSrYzHoYR",
        "outputId": "578a0ba0-7fc1-45ec-e8e9-c1b805e8c078",
        "colab": {
          "base_uri": "https://localhost:8080/",
          "height": 35
        }
      },
      "execution_count": 74,
      "outputs": [
        {
          "output_type": "execute_result",
          "data": {
            "text/plain": [
              "'Error is 98%'"
            ],
            "application/vnd.google.colaboratory.intrinsic+json": {
              "type": "string"
            }
          },
          "metadata": {},
          "execution_count": 74
        }
      ]
    },
    {
      "cell_type": "code",
      "source": [
        "\"%10s\" % \"hi\""
      ],
      "metadata": {
        "id": "l1rg_hTxHsyW",
        "outputId": "fb121cbe-8588-4579-f06d-59d74027d03e",
        "colab": {
          "base_uri": "https://localhost:8080/",
          "height": 35
        }
      },
      "execution_count": 75,
      "outputs": [
        {
          "output_type": "execute_result",
          "data": {
            "text/plain": [
              "'        hi'"
            ],
            "application/vnd.google.colaboratory.intrinsic+json": {
              "type": "string"
            }
          },
          "metadata": {},
          "execution_count": 75
        }
      ]
    },
    {
      "cell_type": "code",
      "source": [
        "\"%-10sjane\" % 'hi'"
      ],
      "metadata": {
        "id": "DRf31JpXIJ1R",
        "outputId": "f9e78c1a-6116-4a3e-ad33-96be69512ece",
        "colab": {
          "base_uri": "https://localhost:8080/",
          "height": 35
        }
      },
      "execution_count": 76,
      "outputs": [
        {
          "output_type": "execute_result",
          "data": {
            "text/plain": [
              "'hi        jane'"
            ],
            "application/vnd.google.colaboratory.intrinsic+json": {
              "type": "string"
            }
          },
          "metadata": {},
          "execution_count": 76
        }
      ]
    },
    {
      "cell_type": "code",
      "source": [
        "\"%0.4f\" % 3.42134234"
      ],
      "metadata": {
        "id": "LxjJtA7VINOg",
        "outputId": "cb623e1a-59c2-4be9-a18f-460efc5d7f08",
        "colab": {
          "base_uri": "https://localhost:8080/",
          "height": 35
        }
      },
      "execution_count": 77,
      "outputs": [
        {
          "output_type": "execute_result",
          "data": {
            "text/plain": [
              "'3.4213'"
            ],
            "application/vnd.google.colaboratory.intrinsic+json": {
              "type": "string"
            }
          },
          "metadata": {},
          "execution_count": 77
        }
      ]
    },
    {
      "cell_type": "code",
      "source": [
        "\"%10.4f\" % 3.421344234"
      ],
      "metadata": {
        "id": "CJcjEfYnIVIJ",
        "outputId": "53803c62-7ec9-4398-9698-7a152030528b",
        "colab": {
          "base_uri": "https://localhost:8080/",
          "height": 35
        }
      },
      "execution_count": 78,
      "outputs": [
        {
          "output_type": "execute_result",
          "data": {
            "text/plain": [
              "'    3.4213'"
            ],
            "application/vnd.google.colaboratory.intrinsic+json": {
              "type": "string"
            }
          },
          "metadata": {},
          "execution_count": 78
        }
      ]
    },
    {
      "cell_type": "code",
      "source": [
        "\"I eat {0} apples\".format(3)"
      ],
      "metadata": {
        "id": "fJvnBbbEIZ6y",
        "outputId": "efed0d49-3731-4b40-dc7f-04f312752df6",
        "colab": {
          "base_uri": "https://localhost:8080/",
          "height": 35
        }
      },
      "execution_count": 79,
      "outputs": [
        {
          "output_type": "execute_result",
          "data": {
            "text/plain": [
              "'I eat 3 apples'"
            ],
            "application/vnd.google.colaboratory.intrinsic+json": {
              "type": "string"
            }
          },
          "metadata": {},
          "execution_count": 79
        }
      ]
    },
    {
      "cell_type": "code",
      "source": [
        "\"I eat {0} apples\".format(\"five\")"
      ],
      "metadata": {
        "id": "l6bK_POxIi2z",
        "outputId": "7534d37a-5a37-4a53-bdeb-4048cf8a85c1",
        "colab": {
          "base_uri": "https://localhost:8080/",
          "height": 35
        }
      },
      "execution_count": 80,
      "outputs": [
        {
          "output_type": "execute_result",
          "data": {
            "text/plain": [
              "'I eat five apples'"
            ],
            "application/vnd.google.colaboratory.intrinsic+json": {
              "type": "string"
            }
          },
          "metadata": {},
          "execution_count": 80
        }
      ]
    },
    {
      "cell_type": "code",
      "source": [
        "number=3\n",
        "\"I eat {0} apples\".format(number)"
      ],
      "metadata": {
        "id": "mUpNSkI2IqFb",
        "outputId": "08e5ea18-4ac8-4ddf-c639-e58104890ba8",
        "colab": {
          "base_uri": "https://localhost:8080/",
          "height": 35
        }
      },
      "execution_count": 81,
      "outputs": [
        {
          "output_type": "execute_result",
          "data": {
            "text/plain": [
              "'I eat 3 apples'"
            ],
            "application/vnd.google.colaboratory.intrinsic+json": {
              "type": "string"
            }
          },
          "metadata": {},
          "execution_count": 81
        }
      ]
    },
    {
      "cell_type": "code",
      "source": [
        "number = 10\n",
        "day = \"three\"\n",
        "\"I ate {} apples. so I was sick for {} days.\".format(number, day)"
      ],
      "metadata": {
        "id": "HromuCr6JMM2",
        "outputId": "44801123-26f7-41ff-e095-92de0bc7db4a",
        "colab": {
          "base_uri": "https://localhost:8080/",
          "height": 35
        }
      },
      "execution_count": 86,
      "outputs": [
        {
          "output_type": "execute_result",
          "data": {
            "text/plain": [
              "'I ate 10 apples. so I was sick for three days.'"
            ],
            "application/vnd.google.colaboratory.intrinsic+json": {
              "type": "string"
            }
          },
          "metadata": {},
          "execution_count": 86
        }
      ]
    },
    {
      "cell_type": "code",
      "source": [
        "\"I ate {number} apples. so I was sick for {three} days.\".format(number=10, three=3)"
      ],
      "metadata": {
        "id": "HEbnKr0KJjfg",
        "outputId": "4da591db-53ca-4be2-88e8-b6eb0679f2cd",
        "colab": {
          "base_uri": "https://localhost:8080/",
          "height": 35
        }
      },
      "execution_count": 91,
      "outputs": [
        {
          "output_type": "execute_result",
          "data": {
            "text/plain": [
              "'I ate 10 apples. so I was sick for 3 days.'"
            ],
            "application/vnd.google.colaboratory.intrinsic+json": {
              "type": "string"
            }
          },
          "metadata": {},
          "execution_count": 91
        }
      ]
    },
    {
      "cell_type": "code",
      "source": [
        "\"I ate {0} apples. so I was sick for {day} days.\".format(10, day=3)"
      ],
      "metadata": {
        "id": "N26D6scqJug2",
        "outputId": "aebf440b-a7ba-4f37-c94c-d9b15dea5d27",
        "colab": {
          "base_uri": "https://localhost:8080/",
          "height": 35
        }
      },
      "execution_count": 92,
      "outputs": [
        {
          "output_type": "execute_result",
          "data": {
            "text/plain": [
              "'I ate 10 apples. so I was sick for 3 days.'"
            ],
            "application/vnd.google.colaboratory.intrinsic+json": {
              "type": "string"
            }
          },
          "metadata": {},
          "execution_count": 92
        }
      ]
    },
    {
      "cell_type": "code",
      "source": [
        "\"{0:>10}\".format(\"hi\")"
      ],
      "metadata": {
        "id": "m0N5rj6nIya9",
        "outputId": "a9384060-92fb-4351-cca8-faaaf191aa12",
        "colab": {
          "base_uri": "https://localhost:8080/",
          "height": 35
        }
      },
      "execution_count": 82,
      "outputs": [
        {
          "output_type": "execute_result",
          "data": {
            "text/plain": [
              "'        hi'"
            ],
            "application/vnd.google.colaboratory.intrinsic+json": {
              "type": "string"
            }
          },
          "metadata": {},
          "execution_count": 82
        }
      ]
    },
    {
      "cell_type": "code",
      "source": [
        "\"{0:<10}\".format(\"hi\")"
      ],
      "metadata": {
        "id": "oqRDBeRRI_0Z",
        "outputId": "2dc3cce1-f63d-4b45-c46f-180317d3e285",
        "colab": {
          "base_uri": "https://localhost:8080/",
          "height": 35
        }
      },
      "execution_count": 83,
      "outputs": [
        {
          "output_type": "execute_result",
          "data": {
            "text/plain": [
              "'hi        '"
            ],
            "application/vnd.google.colaboratory.intrinsic+json": {
              "type": "string"
            }
          },
          "metadata": {},
          "execution_count": 83
        }
      ]
    },
    {
      "cell_type": "code",
      "source": [
        "\"{0:^10}\".format(\"hi\")"
      ],
      "metadata": {
        "id": "mC9YWgEXJFcG",
        "outputId": "5ddefddd-11f8-4842-b4c4-bb6ee58a4193",
        "colab": {
          "base_uri": "https://localhost:8080/",
          "height": 35
        }
      },
      "execution_count": 84,
      "outputs": [
        {
          "output_type": "execute_result",
          "data": {
            "text/plain": [
              "'    hi    '"
            ],
            "application/vnd.google.colaboratory.intrinsic+json": {
              "type": "string"
            }
          },
          "metadata": {},
          "execution_count": 84
        }
      ]
    },
    {
      "cell_type": "code",
      "source": [
        "\"{0:=^10}\".format(\"hi\")"
      ],
      "metadata": {
        "id": "6Zp6hXH6KQwT",
        "outputId": "203e1b10-3bff-4733-f59a-30e31a5850f7",
        "colab": {
          "base_uri": "https://localhost:8080/",
          "height": 35
        }
      },
      "execution_count": 94,
      "outputs": [
        {
          "output_type": "execute_result",
          "data": {
            "text/plain": [
              "'====hi===='"
            ],
            "application/vnd.google.colaboratory.intrinsic+json": {
              "type": "string"
            }
          },
          "metadata": {},
          "execution_count": 94
        }
      ]
    },
    {
      "cell_type": "code",
      "source": [
        "\"{0:!<10}\".format(\"hi\")"
      ],
      "metadata": {
        "id": "q9nyZ1BEKcmW",
        "outputId": "fc70b1a1-49fc-42d9-ef68-68c87af57cf8",
        "colab": {
          "base_uri": "https://localhost:8080/",
          "height": 35
        }
      },
      "execution_count": 95,
      "outputs": [
        {
          "output_type": "execute_result",
          "data": {
            "text/plain": [
              "'hi!!!!!!!!'"
            ],
            "application/vnd.google.colaboratory.intrinsic+json": {
              "type": "string"
            }
          },
          "metadata": {},
          "execution_count": 95
        }
      ]
    },
    {
      "cell_type": "code",
      "source": [
        ""
      ],
      "metadata": {
        "id": "BF4vfhsCKl7m"
      },
      "execution_count": null,
      "outputs": []
    }
  ],
  "metadata": {
    "colab": {
      "name": "02-1_Number.ipynb",
      "provenance": [],
      "authorship_tag": "ABX9TyMtTNVBH2i080W3wNaDnk93",
      "include_colab_link": true
    },
    "kernelspec": {
      "display_name": "Python 3",
      "name": "python3"
    },
    "language_info": {
      "name": "python"
    }
  },
  "nbformat": 4,
  "nbformat_minor": 0
}